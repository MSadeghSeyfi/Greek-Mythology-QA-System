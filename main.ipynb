{
 "cells": [
  {
   "cell_type": "code",
   "execution_count": 1,
   "id": "1ba2ba21",
   "metadata": {},
   "outputs": [],
   "source": [
    "import getpass\n",
    "import os\n",
    "os.environ[\"COHERE_API_KEY\"] = getpass.getpass()"
   ]
  },
  {
   "cell_type": "code",
   "execution_count": 2,
   "id": "4e7f83e3",
   "metadata": {},
   "outputs": [
    {
     "name": "stdout",
     "output_type": "stream",
     "text": [
      "Total number of items: 14\n",
      "First item: {'name': 'زئوس', 'description': 'زئوس بر کوه الیمپوس حکومت می\\u200cکند و پادشاه خدایان است. او پسر کرونوس و ریا، شوهر هرا است، و 15 کودک دارد که همه آنها المپیایی هستند.', 'appearance': 'او به عنوان یک مرد قد بلند و ستبر با لباس فاخر نشان داده شده است. او دارای موی بلند و ریش بلند است. به طور کلی، او به صورت ایستاده به تصویر درآمده است.', 'features': 'رعد، اسلحه او و ویژگی اصلی وی است که به طور کلی در دست راست او قرار دارد. گاهی اوقات او یک عصای سلطنتی را در دست چپ خود حمل می\\u200cکند. گاو و عقاب حیوانات مقدس او هستند.'}\n"
     ]
    }
   ],
   "source": [
    "import json\n",
    "\n",
    "with open(\"gods.json\", \"r\", encoding=\"utf-8\") as file:\n",
    "    gods = json.load(file)\n",
    "print('Total number of items:', len(gods))\n",
    "print('First item:', gods[0])"
   ]
  },
  {
   "cell_type": "code",
   "execution_count": 3,
   "id": "84ce58f0",
   "metadata": {},
   "outputs": [],
   "source": [
    "gods_text = \"\"\n",
    "for god in gods:\n",
    "    god_description = f\"{god['name']}: {god['description']} {god['appearance']} {god['features']}\"\n",
    "    gods_text += god_description + \"\\n\\n\"\n",
    "\n",
    "system_message = f\"اطلاعات خدایان:\\n\\n{gods_text}\\nپاسخ باید در حداکثر 4 الی 5 کلمه خلاصه شود!\\nاگر نتوانستی در 4 الی 5 کلمه پاسخ بدی با رشته ی «نمی‌دانم» پاسخ بده.\\nاگر پاسخ سوالی را نمیدانی با رشته ی «نمی‌دانم» پاسخ بده.\""
   ]
  },
  {
   "cell_type": "code",
   "execution_count": 4,
   "id": "a3cf5e63",
   "metadata": {},
   "outputs": [],
   "source": [
    "examples = [\n",
    "    {\"question\": \"خدای جنگ کیست؟\", \"answer\": \"آرس\"},\n",
    "    {\"question\": \"آتنا معمولاً چه چیزهایی را در دستانش دارد؟\", \"answer\": \"سپر و شمشیر\"},\n",
    "    {\"question\": \"آرتمیس دوقلوی چه کسی است؟\", \"answer\": \"آپولون\"},\n",
    "    {\"question\": \"زئوس چند کودک دارد که المپیایی هستند؟\", \"answer\": \"15\"},\n",
    "    {\"question\": \"چه کسی پادشاه خدایان است؟\", \"answer\": \"زئوس\"},\n",
    "    {\"question\": \"سلاح اصلی زئوس چیست؟\", \"answer\": \"رعد\"},\n",
    "    {\"question\": \"چه حیواناتی مقدس زئوس هستند؟\", \"answer\": \"گاو و عقاب\"},\n",
    "    {\"question\": \"چه کسی خدای مرگ است؟\", \"answer\": \"هادس\"},\n",
    "    {\"question\": \"حیوان همراه هادس چیست؟\", \"answer\": \"کربروس\"},\n",
    "    {\"question\": \"چه کسی ارباب دریا است؟\", \"answer\": \"پوسوئیدون\"},\n",
    "    {\"question\": \"سلاح پوسوئیدون چیست؟\", \"answer\": \"نیزه سه‌شاخ\"},\n",
    "    {\"question\": \"هرا الهه چه چیزی است؟\", \"answer\": \"ازدواج\"},\n",
    "    {\"question\": \"حیوان مقدس هرا چیست؟\", \"answer\": \"طاووس\"},\n",
    "    {\"question\": \"دمتر الهه چه چیزی است؟\", \"answer\": \"کشاورزی\"},\n",
    "    {\"question\": \"هستیا الهه چه چیزی است؟\", \"answer\": \"خانه\"},\n",
    "    {\"question\": \"آرس خدای چه چیزی است؟\", \"answer\": \"جنگ\"},\n",
    "    {\"question\": \"سلاح‌های آرس چه هستند؟\", \"answer\": \"سپر و شمشیر\"},\n",
    "    {\"question\": \"هرمس خدای چه چیزهایی است؟\", \"answer\": \"سفر و تجارت\"},\n",
    "    {\"question\": \"حیوانات مقدس هرمس کدامند؟\", \"answer\": \"لاک‌پشت و خرگوش\"},\n",
    "    {\"question\": \"دیونیسوس خدای چه چیزی است؟\", \"answer\": \"شراب و جشن\"},\n",
    "    {\"question\": \"نماد دیونیسوس چیست؟\", \"answer\": \"فنجان\"},\n",
    "    {\"question\": \"هفایستوس خدای چه چیزی است؟\", \"answer\": \"آهنگری\"},\n",
    "    {\"question\": \"سلاح یا ابزار هفایستوس چیست؟\", \"answer\": \"چکش\"},\n",
    "    {\"question\": \"آپولون خدای چه چیزهایی است؟\", \"answer\": \"موسیقی و پزشکی\"},\n",
    "    {\"question\": \"آرتمیس الهه چه چیزی است؟\", \"answer\": \"شکار\"},\n",
    "    {\"question\": \"سلاح آرتمیس چیست؟\", \"answer\": \"تیر و کمان\"},\n",
    "    {\"question\": \"آفرودیت الهه چه چیزی است؟\", \"answer\": \"عشق\"},\n",
    "    {\"question\": \"پرنده مقدس آفرودیت چیست؟\", \"answer\": \"کبوتر\"},\n",
    "    {\"question\": \"آتنا الهه چه چیزی است؟\", \"answer\": \"حکمت و جنگ\"},\n",
    "    {\"question\": \"حیوان همراه آتنا چیست؟\", \"answer\": \"جغد\"}\n",
    "]"
   ]
  },
  {
   "cell_type": "code",
   "execution_count": 5,
   "id": "ba3cae16",
   "metadata": {},
   "outputs": [],
   "source": [
    "from langchain_core.prompts import ChatPromptTemplate\n",
    "from langchain_core.prompts import FewShotChatMessagePromptTemplate\n",
    "from langchain_chroma import Chroma\n",
    "from langchain_core.example_selectors import SemanticSimilarityExampleSelector\n",
    "from langchain_cohere import CohereEmbeddings\n",
    "\n",
    "embeddings = CohereEmbeddings(model='embed-multilingual-v3.0')\n",
    "to_vectorize = [\" \".join(example.values()) for example in examples]\n",
    "vectorstore = Chroma.from_texts(to_vectorize, embeddings, metadatas=examples)"
   ]
  },
  {
   "cell_type": "code",
   "execution_count": 6,
   "id": "1043c8a3",
   "metadata": {},
   "outputs": [
    {
     "data": {
      "text/plain": [
       "[{'answer': 'زئوس', 'question': 'چه کسی پادشاه خدایان است؟'},\n",
       " {'answer': 'گاو و عقاب', 'question': 'چه حیواناتی مقدس زئوس هستند؟'},\n",
       " {'answer': '15', 'question': 'زئوس چند کودک دارد که المپیایی هستند؟'},\n",
       " {'answer': 'رعد', 'question': 'سلاح اصلی زئوس چیست؟'},\n",
       " {'answer': 'شراب و جشن', 'question': 'دیونیسوس خدای چه چیزی است؟'}]"
      ]
     },
     "execution_count": 6,
     "metadata": {},
     "output_type": "execute_result"
    }
   ],
   "source": [
    "example_selector = SemanticSimilarityExampleSelector(\n",
    "    vectorstore=vectorstore,\n",
    "    k=5,\n",
    ")\n",
    "\n",
    "example_selector.select_examples({\"question\": \"در مورد زئوس بگو\"})"
   ]
  },
  {
   "cell_type": "code",
   "execution_count": 7,
   "id": "8803ab67",
   "metadata": {},
   "outputs": [],
   "source": [
    "from langchain_core.prompts import ChatPromptTemplate\n",
    "\n",
    "few_shot_prompt = FewShotChatMessagePromptTemplate(\n",
    "    input_variables=[\"question\"],\n",
    "    example_selector=example_selector,\n",
    "    example_prompt=ChatPromptTemplate.from_messages(\n",
    "        [(\"human\", \"{question}\"), (\"ai\", \"{answer}\")]\n",
    "    )\n",
    ")\n",
    "\n",
    "prompt = ChatPromptTemplate.from_messages(\n",
    "    [\n",
    "     (\"system\", system_message),\n",
    "     few_shot_prompt,\n",
    "     (\"human\", \"{question}\")\n",
    "    ]\n",
    ")"
   ]
  },
  {
   "cell_type": "code",
   "execution_count": 8,
   "id": "a4822d62",
   "metadata": {},
   "outputs": [],
   "source": [
    "from langchain_cohere import ChatCohere\n",
    "\n",
    "model = ChatCohere(top_p=0.9, tempreature=0)"
   ]
  },
  {
   "cell_type": "code",
   "execution_count": 10,
   "id": "20ce5ce3",
   "metadata": {},
   "outputs": [],
   "source": [
    "from langchain_core.output_parsers import StrOutputParser\n",
    "chain = prompt | model | StrOutputParser()"
   ]
  },
  {
   "cell_type": "code",
   "execution_count": null,
   "id": "350ae0c8",
   "metadata": {},
   "outputs": [],
   "source": [
    "import pandas as pd \n",
    "\n",
    "questions = pd.read_csv(None) "
   ]
  }
 ],
 "metadata": {
  "kernelspec": {
   "display_name": "quera",
   "language": "python",
   "name": "python3"
  },
  "language_info": {
   "codemirror_mode": {
    "name": "ipython",
    "version": 3
   },
   "file_extension": ".py",
   "mimetype": "text/x-python",
   "name": "python",
   "nbconvert_exporter": "python",
   "pygments_lexer": "ipython3",
   "version": "3.11.11"
  }
 },
 "nbformat": 4,
 "nbformat_minor": 5
}
