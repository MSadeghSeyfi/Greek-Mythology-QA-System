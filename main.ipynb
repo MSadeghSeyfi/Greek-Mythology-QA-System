{
 "cells": [
  {
   "cell_type": "code",
   "execution_count": 1,
   "id": "1ba2ba21",
   "metadata": {},
   "outputs": [],
   "source": [
    "import getpass\n",
    "import os\n",
    "os.environ[\"COHERE_API_KEY\"] = getpass.getpass()"
   ]
  },
  {
   "cell_type": "code",
   "execution_count": 2,
   "id": "4e7f83e3",
   "metadata": {},
   "outputs": [
    {
     "name": "stdout",
     "output_type": "stream",
     "text": [
      "Total number of items: 14\n",
      "First item: {'name': 'زئوس', 'description': 'زئوس بر کوه الیمپوس حکومت می\\u200cکند و پادشاه خدایان است. او پسر کرونوس و ریا، شوهر هرا است، و 15 کودک دارد که همه آنها المپیایی هستند.', 'appearance': 'او به عنوان یک مرد قد بلند و ستبر با لباس فاخر نشان داده شده است. او دارای موی بلند و ریش بلند است. به طور کلی، او به صورت ایستاده به تصویر درآمده است.', 'features': 'رعد، اسلحه او و ویژگی اصلی وی است که به طور کلی در دست راست او قرار دارد. گاهی اوقات او یک عصای سلطنتی را در دست چپ خود حمل می\\u200cکند. گاو و عقاب حیوانات مقدس او هستند.'}\n"
     ]
    }
   ],
   "source": [
    "import json\n",
    "\n",
    "with open(\"gods.json\", \"r\", encoding=\"utf-8\") as file:\n",
    "    gods = json.load(file)\n",
    "print('Total number of items:', len(gods))\n",
    "print('First item:', gods[0])"
   ]
  },
  {
   "cell_type": "code",
   "execution_count": 3,
   "id": "84ce58f0",
   "metadata": {},
   "outputs": [],
   "source": [
    "gods_text = \"\"\n",
    "for god in gods:\n",
    "    god_description = f\"{god['name']}: {god['description']} {god['appearance']} {god['features']}\"\n",
    "    gods_text += god_description + \"\\n\\n\"\n",
    "\n",
    "system_message = f\"اطلاعات خدایان:\\n\\n{gods_text}\\nپاسخ باید در حداکثر 4 الی 5 کلمه خلاصه شود!\\nاگر نتوانستی در 4 الی 5 کلمه پاسخ بدی با رشته ی «نمی‌دانم» پاسخ بده.\\nاگر پاسخ سوالی را نمیدانی با رشته ی «نمی‌دانم» پاسخ بده.\""
   ]
  },
  {
   "cell_type": "code",
   "execution_count": 4,
   "id": "a3cf5e63",
   "metadata": {},
   "outputs": [],
   "source": [
    "examples = [\n",
    "    {\"question\": \"کدام خدا آتش را به انسان‌ها داد؟\", \"answer\": \"پرومته\"},\n",
    "    {\"question\": \"نام معبد آپولون کجاست؟\", \"answer\": \"دلفی\"},\n",
    "    {\"question\": \"چه کسی پاندورا را ساخت؟\", \"answer\": \"هفایستوس\"},\n",
    "    {\"question\": \"نام رود عالم زیرین چیست؟\", \"answer\": \"استیکس\"},\n",
    "    {\"question\": \"چه کسی دیوارهای تروی را ساخت؟\", \"answer\": \"پوسوئیدون\"},\n",
    "    {\"question\": \"کدام خدا هیولای پیتون را کشت؟\", \"answer\": \"آپولون\"},\n",
    "    {\"question\": \"نام جزیره تولد آرتمیس چیست؟\", \"answer\": \"دلوس\"},\n",
    "    {\"question\": \"چه کسی هلن را ربود؟\", \"answer\": \"پاریس\"},\n",
    "    {\"question\": \"کدام خدا طوفان ادیسه را ایجاد کرد؟\", \"answer\": \"پوسوئیدون\"},\n",
    "    {\"question\": \"چه کسی جعبه پاندورا را باز کرد؟\", \"answer\": \"اپیمته\"},\n",
    "    {\"question\": \"نام هیولای سر شیر چیست؟\", \"answer\": \"کایمرا\"},\n",
    "    {\"question\": \"چه کسی به عنکبوت تبدیل شد؟\", \"answer\": \"آراخنه\"},\n",
    "    {\"question\": \"کدام خدا لابیرنت کرت را ساخت؟\", \"answer\": \"ددالوس\"},\n",
    "    {\"question\": \"نام شهر حامی آتنا چیست؟\", \"answer\": \"آتن\"},\n",
    "    {\"question\": \"چه کسی با بال‌های مومی پرواز کرد؟\", \"answer\": \"ایکاروس\"},\n",
    "    {\"question\": \"کدام خدا تیتان‌ها را شکست داد؟\", \"answer\": \"زئوس\"},\n",
    "    {\"question\": \"چه کسی مدوسا را نفرین کرد؟\", \"answer\": \"آتنا\"},\n",
    "    {\"question\": \"نام شیر کشته‌شده توسط هراکلس چیست؟\", \"answer\": \"شیر نومه\"},\n",
    "    {\"question\": \"کدام خدا نگهبان دروازه‌های المپوس بود؟\", \"answer\": \"هبه\"},\n",
    "    {\"question\": \"چه کسی اشعار عاشقانه سرود؟\", \"answer\": \"آپولون\"},\n",
    "    {\"question\": \"نام مسابقه انتخاب همسر هیپومنه چیست؟\", \"answer\": \"مسابقه دو\"},\n",
    "    {\"question\": \"چه کسی سیب طلایی را اهدا کرد؟\", \"answer\": \"پاریس\"},\n",
    "    {\"question\": \"کدام خدا به دلیل عشق به نرگس شناخته می‌شود؟\", \"answer\": \"نارسیس\"},\n",
    "    {\"question\": \"چه کسی پارچه بی‌نقص بافت؟\", \"answer\": \"آتنا\"},\n",
    "    {\"question\": \"کدام خدا ضیافت‌های المپوس را برگزار کرد؟\", \"answer\": \"دیونیسوس\"},\n",
    "    {\"question\": \"چه کسی زئوس را با استخوان فریب داد؟\", \"answer\": \"پرومته\"},\n",
    "    {\"question\": \"نام موجودی که هراکلس آن را شکار کرد چیست؟\", \"answer\": \"گراز اریانتیوس\"},\n",
    "    {\"question\": \"کدام خدا ارواح را هدایت می‌کرد؟\", \"answer\": \"هرمس\"},\n",
    "    {\"question\": \"چه کسی دیوارهای شهر آتن را تقویت کرد؟\", \"answer\": \"آتنا\"},\n",
    "    {\"question\": \"نام موجودی که مینوتور را کشت چیست؟\", \"answer\": \"تسئوس\"}\n",
    "]"
   ]
  },
  {
   "cell_type": "code",
   "execution_count": 5,
   "id": "ba3cae16",
   "metadata": {},
   "outputs": [],
   "source": [
    "from langchain_core.prompts import ChatPromptTemplate\n",
    "from langchain_core.prompts import FewShotChatMessagePromptTemplate\n",
    "from langchain_chroma import Chroma\n",
    "from langchain_core.example_selectors import SemanticSimilarityExampleSelector\n",
    "from langchain_cohere import CohereEmbeddings\n",
    "\n",
    "embeddings = CohereEmbeddings(model='embed-multilingual-v3.0')\n",
    "to_vectorize = [\" \".join(example.values()) for example in examples]\n",
    "vectorstore = Chroma.from_texts(to_vectorize, embeddings, metadatas=examples)"
   ]
  },
  {
   "cell_type": "code",
   "execution_count": 6,
   "id": "1043c8a3",
   "metadata": {},
   "outputs": [
    {
     "data": {
      "text/plain": [
       "[{'answer': 'زئوس', 'question': 'کدام خدا تیتان\\u200cها را شکست داد؟'},\n",
       " {'answer': 'پرومته', 'question': 'چه کسی زئوس را با استخوان فریب داد؟'},\n",
       " {'answer': 'تسئوس', 'question': 'نام موجودی که مینوتور را کشت چیست؟'},\n",
       " {'answer': 'نارسیس',\n",
       "  'question': 'کدام خدا به دلیل عشق به نرگس شناخته می\\u200cشود؟'},\n",
       " {'answer': 'پوسوئیدون', 'question': 'کدام خدا طوفان ادیسه را ایجاد کرد؟'}]"
      ]
     },
     "execution_count": 6,
     "metadata": {},
     "output_type": "execute_result"
    }
   ],
   "source": [
    "example_selector = SemanticSimilarityExampleSelector(\n",
    "    vectorstore=vectorstore,\n",
    "    k=5,\n",
    ")\n",
    "\n",
    "example_selector.select_examples({\"question\": \"در مورد زئوس بگو\"})"
   ]
  },
  {
   "cell_type": "code",
   "execution_count": 7,
   "id": "8803ab67",
   "metadata": {},
   "outputs": [],
   "source": [
    "from langchain_core.prompts import ChatPromptTemplate\n",
    "\n",
    "few_shot_prompt = FewShotChatMessagePromptTemplate(\n",
    "    input_variables=[\"question\"],\n",
    "    example_selector=example_selector,\n",
    "    example_prompt=ChatPromptTemplate.from_messages(\n",
    "        [(\"human\", \"{question}\"), (\"ai\", \"{answer}\")]\n",
    "    )\n",
    ")\n",
    "\n",
    "prompt = ChatPromptTemplate.from_messages(\n",
    "    [\n",
    "     (\"system\", system_message),\n",
    "     few_shot_prompt,\n",
    "     (\"human\", \"{question}\")\n",
    "    ]\n",
    ")"
   ]
  },
  {
   "cell_type": "code",
   "execution_count": 8,
   "id": "a4822d62",
   "metadata": {},
   "outputs": [],
   "source": [
    "from langchain_cohere import ChatCohere\n",
    "\n",
    "model = ChatCohere(top_p=0.9, tempreature=0)"
   ]
  },
  {
   "cell_type": "code",
   "execution_count": 9,
   "id": "20ce5ce3",
   "metadata": {},
   "outputs": [],
   "source": [
    "from langchain_core.output_parsers import StrOutputParser\n",
    "chain = prompt | model | StrOutputParser()"
   ]
  },
  {
   "cell_type": "code",
   "execution_count": 15,
   "id": "2bc9b6e8",
   "metadata": {},
   "outputs": [
    {
     "name": "stdout",
     "output_type": "stream",
     "text": [
      "پاسخ: الهه حکمت و جنگ.\n"
     ]
    }
   ],
   "source": [
    "question = input(\"سوال خود را بپرسید: \")\n",
    "answer = chain.invoke(question)\n",
    "print(\"پاسخ:\", answer)"
   ]
  }
 ],
 "metadata": {
  "kernelspec": {
   "display_name": "quera",
   "language": "python",
   "name": "python3"
  },
  "language_info": {
   "codemirror_mode": {
    "name": "ipython",
    "version": 3
   },
   "file_extension": ".py",
   "mimetype": "text/x-python",
   "name": "python",
   "nbconvert_exporter": "python",
   "pygments_lexer": "ipython3",
   "version": "3.11.11"
  }
 },
 "nbformat": 4,
 "nbformat_minor": 5
}
